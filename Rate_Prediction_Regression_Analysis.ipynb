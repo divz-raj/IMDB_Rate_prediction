{
 "cells": [
  {
   "cell_type": "markdown",
   "metadata": {},
   "source": [
    "# Regression Analysis"
   ]
  },
  {
   "cell_type": "markdown",
   "metadata": {},
   "source": [
    "Dataset used --> https://www.kaggle.com/mazenramadan/imdb-most-popular-films-and-series"
   ]
  },
  {
   "cell_type": "code",
   "execution_count": 734,
   "metadata": {},
   "outputs": [],
   "source": [
    "# Import Libraries"
   ]
  },
  {
   "cell_type": "code",
   "execution_count": 735,
   "metadata": {},
   "outputs": [],
   "source": [
    "import numpy as np\n",
    "import pandas as pd\n",
    "import seaborn as sns\n",
    "import matplotlib.pyplot as plt"
   ]
  },
  {
   "cell_type": "code",
   "execution_count": 736,
   "metadata": {},
   "outputs": [],
   "source": [
    "# Read dataset "
   ]
  },
  {
   "cell_type": "code",
   "execution_count": 737,
   "metadata": {},
   "outputs": [],
   "source": [
    "imdb_data = pd.read_csv('imdb.csv')"
   ]
  },
  {
   "cell_type": "code",
   "execution_count": 738,
   "metadata": {},
   "outputs": [
    {
     "data": {
      "text/html": [
       "<div>\n",
       "<style scoped>\n",
       "    .dataframe tbody tr th:only-of-type {\n",
       "        vertical-align: middle;\n",
       "    }\n",
       "\n",
       "    .dataframe tbody tr th {\n",
       "        vertical-align: top;\n",
       "    }\n",
       "\n",
       "    .dataframe thead th {\n",
       "        text-align: right;\n",
       "    }\n",
       "</style>\n",
       "<table border=\"1\" class=\"dataframe\">\n",
       "  <thead>\n",
       "    <tr style=\"text-align: right;\">\n",
       "      <th></th>\n",
       "      <th>Name</th>\n",
       "      <th>Date</th>\n",
       "      <th>Rate</th>\n",
       "      <th>Votes</th>\n",
       "      <th>Genre</th>\n",
       "      <th>Duration</th>\n",
       "      <th>Type</th>\n",
       "      <th>Certificate</th>\n",
       "      <th>Episodes</th>\n",
       "      <th>Nudity</th>\n",
       "      <th>Violence</th>\n",
       "      <th>Profanity</th>\n",
       "      <th>Alcohol</th>\n",
       "      <th>Frightening</th>\n",
       "    </tr>\n",
       "  </thead>\n",
       "  <tbody>\n",
       "    <tr>\n",
       "      <th>0</th>\n",
       "      <td>No Time to Die</td>\n",
       "      <td>2021</td>\n",
       "      <td>7.6</td>\n",
       "      <td>1,07,163</td>\n",
       "      <td>Action, Adventure, Thriller</td>\n",
       "      <td>163</td>\n",
       "      <td>Film</td>\n",
       "      <td>PG-13</td>\n",
       "      <td>-</td>\n",
       "      <td>Mild</td>\n",
       "      <td>Moderate</td>\n",
       "      <td>Mild</td>\n",
       "      <td>Mild</td>\n",
       "      <td>Moderate</td>\n",
       "    </tr>\n",
       "    <tr>\n",
       "      <th>1</th>\n",
       "      <td>The Guilty</td>\n",
       "      <td>2021</td>\n",
       "      <td>6.3</td>\n",
       "      <td>64,375</td>\n",
       "      <td>Crime, Drama, Thriller</td>\n",
       "      <td>90</td>\n",
       "      <td>Film</td>\n",
       "      <td>R</td>\n",
       "      <td>-</td>\n",
       "      <td>None</td>\n",
       "      <td>None</td>\n",
       "      <td>Severe</td>\n",
       "      <td>None</td>\n",
       "      <td>Moderate</td>\n",
       "    </tr>\n",
       "    <tr>\n",
       "      <th>2</th>\n",
       "      <td>The Many Saints of Newark</td>\n",
       "      <td>2021</td>\n",
       "      <td>6.4</td>\n",
       "      <td>27,145</td>\n",
       "      <td>Crime, Drama</td>\n",
       "      <td>120</td>\n",
       "      <td>Film</td>\n",
       "      <td>R</td>\n",
       "      <td>-</td>\n",
       "      <td>Moderate</td>\n",
       "      <td>Severe</td>\n",
       "      <td>Severe</td>\n",
       "      <td>Moderate</td>\n",
       "      <td>Moderate</td>\n",
       "    </tr>\n",
       "    <tr>\n",
       "      <th>3</th>\n",
       "      <td>Venom: Let There Be Carnage</td>\n",
       "      <td>2021</td>\n",
       "      <td>6.4</td>\n",
       "      <td>30,443</td>\n",
       "      <td>Action, Adventure, Sci-Fi</td>\n",
       "      <td>97</td>\n",
       "      <td>Film</td>\n",
       "      <td>PG-13</td>\n",
       "      <td>-</td>\n",
       "      <td>None</td>\n",
       "      <td>Moderate</td>\n",
       "      <td>Moderate</td>\n",
       "      <td>Mild</td>\n",
       "      <td>Moderate</td>\n",
       "    </tr>\n",
       "    <tr>\n",
       "      <th>4</th>\n",
       "      <td>Dune</td>\n",
       "      <td>2021</td>\n",
       "      <td>8.3</td>\n",
       "      <td>84,636</td>\n",
       "      <td>Action, Adventure, Drama</td>\n",
       "      <td>155</td>\n",
       "      <td>Film</td>\n",
       "      <td>PG-13</td>\n",
       "      <td>-</td>\n",
       "      <td>None</td>\n",
       "      <td>Moderate</td>\n",
       "      <td>None</td>\n",
       "      <td>Mild</td>\n",
       "      <td>Moderate</td>\n",
       "    </tr>\n",
       "  </tbody>\n",
       "</table>\n",
       "</div>"
      ],
      "text/plain": [
       "                          Name  Date Rate     Votes  \\\n",
       "0               No Time to Die  2021  7.6  1,07,163   \n",
       "1                   The Guilty  2021  6.3    64,375   \n",
       "2    The Many Saints of Newark  2021  6.4    27,145   \n",
       "3  Venom: Let There Be Carnage  2021  6.4    30,443   \n",
       "4                         Dune  2021  8.3    84,636   \n",
       "\n",
       "                         Genre Duration  Type Certificate Episodes    Nudity  \\\n",
       "0  Action, Adventure, Thriller      163  Film       PG-13        -      Mild   \n",
       "1       Crime, Drama, Thriller       90  Film           R        -      None   \n",
       "2                 Crime, Drama      120  Film           R        -  Moderate   \n",
       "3    Action, Adventure, Sci-Fi       97  Film       PG-13        -      None   \n",
       "4     Action, Adventure, Drama      155  Film       PG-13        -      None   \n",
       "\n",
       "   Violence Profanity   Alcohol Frightening  \n",
       "0  Moderate      Mild      Mild    Moderate  \n",
       "1      None    Severe      None    Moderate  \n",
       "2    Severe    Severe  Moderate    Moderate  \n",
       "3  Moderate  Moderate      Mild    Moderate  \n",
       "4  Moderate      None      Mild    Moderate  "
      ]
     },
     "execution_count": 738,
     "metadata": {},
     "output_type": "execute_result"
    }
   ],
   "source": [
    "imdb_data.head()"
   ]
  },
  {
   "cell_type": "code",
   "execution_count": 739,
   "metadata": {},
   "outputs": [],
   "source": [
    "# lets find out the information about the dataset"
   ]
  },
  {
   "cell_type": "code",
   "execution_count": 740,
   "metadata": {},
   "outputs": [
    {
     "data": {
      "text/plain": [
       "(6178, 14)"
      ]
     },
     "execution_count": 740,
     "metadata": {},
     "output_type": "execute_result"
    }
   ],
   "source": [
    "imdb_data.shape"
   ]
  },
  {
   "cell_type": "code",
   "execution_count": 741,
   "metadata": {},
   "outputs": [
    {
     "data": {
      "text/html": [
       "<div>\n",
       "<style scoped>\n",
       "    .dataframe tbody tr th:only-of-type {\n",
       "        vertical-align: middle;\n",
       "    }\n",
       "\n",
       "    .dataframe tbody tr th {\n",
       "        vertical-align: top;\n",
       "    }\n",
       "\n",
       "    .dataframe thead th {\n",
       "        text-align: right;\n",
       "    }\n",
       "</style>\n",
       "<table border=\"1\" class=\"dataframe\">\n",
       "  <thead>\n",
       "    <tr style=\"text-align: right;\">\n",
       "      <th></th>\n",
       "      <th>Date</th>\n",
       "    </tr>\n",
       "  </thead>\n",
       "  <tbody>\n",
       "    <tr>\n",
       "      <th>count</th>\n",
       "      <td>6178.000000</td>\n",
       "    </tr>\n",
       "    <tr>\n",
       "      <th>mean</th>\n",
       "      <td>2005.952574</td>\n",
       "    </tr>\n",
       "    <tr>\n",
       "      <th>std</th>\n",
       "      <td>15.910248</td>\n",
       "    </tr>\n",
       "    <tr>\n",
       "      <th>min</th>\n",
       "      <td>1922.000000</td>\n",
       "    </tr>\n",
       "    <tr>\n",
       "      <th>25%</th>\n",
       "      <td>1998.000000</td>\n",
       "    </tr>\n",
       "    <tr>\n",
       "      <th>50%</th>\n",
       "      <td>2011.000000</td>\n",
       "    </tr>\n",
       "    <tr>\n",
       "      <th>75%</th>\n",
       "      <td>2019.000000</td>\n",
       "    </tr>\n",
       "    <tr>\n",
       "      <th>max</th>\n",
       "      <td>2023.000000</td>\n",
       "    </tr>\n",
       "  </tbody>\n",
       "</table>\n",
       "</div>"
      ],
      "text/plain": [
       "              Date\n",
       "count  6178.000000\n",
       "mean   2005.952574\n",
       "std      15.910248\n",
       "min    1922.000000\n",
       "25%    1998.000000\n",
       "50%    2011.000000\n",
       "75%    2019.000000\n",
       "max    2023.000000"
      ]
     },
     "execution_count": 741,
     "metadata": {},
     "output_type": "execute_result"
    }
   ],
   "source": [
    "imdb_data.describe()"
   ]
  },
  {
   "cell_type": "code",
   "execution_count": 742,
   "metadata": {},
   "outputs": [
    {
     "name": "stdout",
     "output_type": "stream",
     "text": [
      "<class 'pandas.core.frame.DataFrame'>\n",
      "RangeIndex: 6178 entries, 0 to 6177\n",
      "Data columns (total 14 columns):\n",
      " #   Column       Non-Null Count  Dtype \n",
      "---  ------       --------------  ----- \n",
      " 0   Name         6178 non-null   object\n",
      " 1   Date         6178 non-null   int64 \n",
      " 2   Rate         6178 non-null   object\n",
      " 3   Votes        6178 non-null   object\n",
      " 4   Genre        6178 non-null   object\n",
      " 5   Duration     6178 non-null   object\n",
      " 6   Type         6178 non-null   object\n",
      " 7   Certificate  6178 non-null   object\n",
      " 8   Episodes     6178 non-null   object\n",
      " 9   Nudity       6178 non-null   object\n",
      " 10  Violence     6178 non-null   object\n",
      " 11  Profanity    6178 non-null   object\n",
      " 12  Alcohol      6178 non-null   object\n",
      " 13  Frightening  6178 non-null   object\n",
      "dtypes: int64(1), object(13)\n",
      "memory usage: 675.8+ KB\n"
     ]
    }
   ],
   "source": [
    "imdb_data.info()"
   ]
  },
  {
   "cell_type": "markdown",
   "metadata": {},
   "source": [
    "Above information of the dataset tell us - \n",
    "1. We have 14 features and 6178 observations\n",
    "2. 1 int data type and 13 object types but there is mistake, some of the featues supposed to be integers but implied as object\n",
    "3. It says there is no null values present but from the data set we can say that there is some"
   ]
  },
  {
   "cell_type": "markdown",
   "metadata": {},
   "source": [
    "Cleansing needed here...\n",
    "Let us Clean the data"
   ]
  },
  {
   "cell_type": "code",
   "execution_count": 743,
   "metadata": {},
   "outputs": [
    {
     "data": {
      "text/html": [
       "<div>\n",
       "<style scoped>\n",
       "    .dataframe tbody tr th:only-of-type {\n",
       "        vertical-align: middle;\n",
       "    }\n",
       "\n",
       "    .dataframe tbody tr th {\n",
       "        vertical-align: top;\n",
       "    }\n",
       "\n",
       "    .dataframe thead th {\n",
       "        text-align: right;\n",
       "    }\n",
       "</style>\n",
       "<table border=\"1\" class=\"dataframe\">\n",
       "  <thead>\n",
       "    <tr style=\"text-align: right;\">\n",
       "      <th></th>\n",
       "      <th>Name</th>\n",
       "      <th>Date</th>\n",
       "      <th>Rate</th>\n",
       "      <th>Votes</th>\n",
       "      <th>Genre</th>\n",
       "      <th>Duration</th>\n",
       "      <th>Type</th>\n",
       "      <th>Certificate</th>\n",
       "      <th>Episodes</th>\n",
       "      <th>Nudity</th>\n",
       "      <th>Violence</th>\n",
       "      <th>Profanity</th>\n",
       "      <th>Alcohol</th>\n",
       "      <th>Frightening</th>\n",
       "    </tr>\n",
       "  </thead>\n",
       "  <tbody>\n",
       "    <tr>\n",
       "      <th>0</th>\n",
       "      <td>No Time to Die</td>\n",
       "      <td>2021</td>\n",
       "      <td>7.6</td>\n",
       "      <td>1,07,163</td>\n",
       "      <td>Action, Adventure, Thriller</td>\n",
       "      <td>163</td>\n",
       "      <td>Film</td>\n",
       "      <td>PG-13</td>\n",
       "      <td>-</td>\n",
       "      <td>Mild</td>\n",
       "      <td>Moderate</td>\n",
       "      <td>Mild</td>\n",
       "      <td>Mild</td>\n",
       "      <td>Moderate</td>\n",
       "    </tr>\n",
       "    <tr>\n",
       "      <th>1</th>\n",
       "      <td>The Guilty</td>\n",
       "      <td>2021</td>\n",
       "      <td>6.3</td>\n",
       "      <td>64,375</td>\n",
       "      <td>Crime, Drama, Thriller</td>\n",
       "      <td>90</td>\n",
       "      <td>Film</td>\n",
       "      <td>R</td>\n",
       "      <td>-</td>\n",
       "      <td>None</td>\n",
       "      <td>None</td>\n",
       "      <td>Severe</td>\n",
       "      <td>None</td>\n",
       "      <td>Moderate</td>\n",
       "    </tr>\n",
       "    <tr>\n",
       "      <th>2</th>\n",
       "      <td>The Many Saints of Newark</td>\n",
       "      <td>2021</td>\n",
       "      <td>6.4</td>\n",
       "      <td>27,145</td>\n",
       "      <td>Crime, Drama</td>\n",
       "      <td>120</td>\n",
       "      <td>Film</td>\n",
       "      <td>R</td>\n",
       "      <td>-</td>\n",
       "      <td>Moderate</td>\n",
       "      <td>Severe</td>\n",
       "      <td>Severe</td>\n",
       "      <td>Moderate</td>\n",
       "      <td>Moderate</td>\n",
       "    </tr>\n",
       "    <tr>\n",
       "      <th>3</th>\n",
       "      <td>Venom: Let There Be Carnage</td>\n",
       "      <td>2021</td>\n",
       "      <td>6.4</td>\n",
       "      <td>30,443</td>\n",
       "      <td>Action, Adventure, Sci-Fi</td>\n",
       "      <td>97</td>\n",
       "      <td>Film</td>\n",
       "      <td>PG-13</td>\n",
       "      <td>-</td>\n",
       "      <td>None</td>\n",
       "      <td>Moderate</td>\n",
       "      <td>Moderate</td>\n",
       "      <td>Mild</td>\n",
       "      <td>Moderate</td>\n",
       "    </tr>\n",
       "    <tr>\n",
       "      <th>4</th>\n",
       "      <td>Dune</td>\n",
       "      <td>2021</td>\n",
       "      <td>8.3</td>\n",
       "      <td>84,636</td>\n",
       "      <td>Action, Adventure, Drama</td>\n",
       "      <td>155</td>\n",
       "      <td>Film</td>\n",
       "      <td>PG-13</td>\n",
       "      <td>-</td>\n",
       "      <td>None</td>\n",
       "      <td>Moderate</td>\n",
       "      <td>None</td>\n",
       "      <td>Mild</td>\n",
       "      <td>Moderate</td>\n",
       "    </tr>\n",
       "  </tbody>\n",
       "</table>\n",
       "</div>"
      ],
      "text/plain": [
       "                          Name  Date Rate     Votes  \\\n",
       "0               No Time to Die  2021  7.6  1,07,163   \n",
       "1                   The Guilty  2021  6.3    64,375   \n",
       "2    The Many Saints of Newark  2021  6.4    27,145   \n",
       "3  Venom: Let There Be Carnage  2021  6.4    30,443   \n",
       "4                         Dune  2021  8.3    84,636   \n",
       "\n",
       "                         Genre Duration  Type Certificate Episodes    Nudity  \\\n",
       "0  Action, Adventure, Thriller      163  Film       PG-13        -      Mild   \n",
       "1       Crime, Drama, Thriller       90  Film           R        -      None   \n",
       "2                 Crime, Drama      120  Film           R        -  Moderate   \n",
       "3    Action, Adventure, Sci-Fi       97  Film       PG-13        -      None   \n",
       "4     Action, Adventure, Drama      155  Film       PG-13        -      None   \n",
       "\n",
       "   Violence Profanity   Alcohol Frightening  \n",
       "0  Moderate      Mild      Mild    Moderate  \n",
       "1      None    Severe      None    Moderate  \n",
       "2    Severe    Severe  Moderate    Moderate  \n",
       "3  Moderate  Moderate      Mild    Moderate  \n",
       "4  Moderate      None      Mild    Moderate  "
      ]
     },
     "execution_count": 743,
     "metadata": {},
     "output_type": "execute_result"
    }
   ],
   "source": [
    "imdb_data.head()"
   ]
  },
  {
   "cell_type": "markdown",
   "metadata": {},
   "source": [
    "# Preprocessing"
   ]
  },
  {
   "cell_type": "markdown",
   "metadata": {},
   "source": [
    "Lets find out the categories first"
   ]
  },
  {
   "cell_type": "code",
   "execution_count": 744,
   "metadata": {},
   "outputs": [
    {
     "data": {
      "text/plain": [
       "2021    736\n",
       "2019    360\n",
       "2020    343\n",
       "2018    251\n",
       "2017    220\n",
       "       ... \n",
       "1927      1\n",
       "1951      1\n",
       "1948      1\n",
       "1940      1\n",
       "1922      1\n",
       "Name: Date, Length: 91, dtype: int64"
      ]
     },
     "execution_count": 744,
     "metadata": {},
     "output_type": "execute_result"
    }
   ],
   "source": [
    "imdb_data['Date'].value_counts()"
   ]
  },
  {
   "cell_type": "code",
   "execution_count": 745,
   "metadata": {},
   "outputs": [
    {
     "data": {
      "text/plain": [
       "King Kong               5\n",
       "Robin Hood              4\n",
       "Cat People              4\n",
       "The Mummy               4\n",
       "The Saint               4\n",
       "                       ..\n",
       "Scary Movie 2           1\n",
       "Road House              1\n",
       "Dead Ringers            1\n",
       "Contratiempo            1\n",
       "Hot Tub Time Machine    1\n",
       "Name: Name, Length: 4820, dtype: int64"
      ]
     },
     "execution_count": 745,
     "metadata": {},
     "output_type": "execute_result"
    }
   ],
   "source": [
    "imdb_data['Name'].value_counts()"
   ]
  },
  {
   "cell_type": "code",
   "execution_count": 746,
   "metadata": {},
   "outputs": [
    {
     "data": {
      "text/plain": [
       "Comedy                        268\n",
       "Drama                         259\n",
       "Crime, Drama, Mystery         220\n",
       "Comedy, Drama                 199\n",
       "Drama, Romance                189\n",
       "                             ... \n",
       "Comedy, Talk-Show               1\n",
       "Comedy, Mystery, Romance        1\n",
       "Drama, Fantasy, History         1\n",
       "Animation, Comedy, Romance      1\n",
       "Family, Fantasy, Romance        1\n",
       "Name: Genre, Length: 377, dtype: int64"
      ]
     },
     "execution_count": 746,
     "metadata": {},
     "output_type": "execute_result"
    }
   ],
   "source": [
    "imdb_data['Genre'].value_counts()"
   ]
  },
  {
   "cell_type": "code",
   "execution_count": 747,
   "metadata": {},
   "outputs": [
    {
     "data": {
      "text/plain": [
       "Film      4446\n",
       "Series    1732\n",
       "Name: Type, dtype: int64"
      ]
     },
     "execution_count": 747,
     "metadata": {},
     "output_type": "execute_result"
    }
   ],
   "source": [
    "imdb_data['Type'].value_counts() # Feature Type only has 2 categories, No cleaning needed"
   ]
  },
  {
   "cell_type": "code",
   "execution_count": 748,
   "metadata": {},
   "outputs": [
    {
     "data": {
      "text/plain": [
       "R            1885\n",
       "PG-13        1147\n",
       "TV-MA         641\n",
       "TV-14         575\n",
       "PG            530\n",
       "None          450\n",
       "TV-PG         336\n",
       "Not Rated     231\n",
       "TV-G           95\n",
       "G              70\n",
       "Approved       42\n",
       "Unrated        40\n",
       "TV-Y7          34\n",
       "Passed         24\n",
       "NC-17          14\n",
       "TV-Y           13\n",
       "E              12\n",
       "TV-Y7-FV       11\n",
       "(Banned)       11\n",
       "GP              6\n",
       "X               6\n",
       "M               3\n",
       "M/PG            2\n",
       "Name: Certificate, dtype: int64"
      ]
     },
     "execution_count": 748,
     "metadata": {},
     "output_type": "execute_result"
    }
   ],
   "source": [
    "imdb_data['Certificate'].value_counts()\n",
    "# In Certificate column, Have null values(None) and Rating Not rated is equivalent to Unrated "
   ]
  },
  {
   "cell_type": "code",
   "execution_count": 749,
   "metadata": {},
   "outputs": [],
   "source": [
    "imdb_data['Certificate']=imdb_data['Certificate'].replace({'Not Rated':'Unrated'}) \n",
    "# replacing Not rated with Unrated"
   ]
  },
  {
   "cell_type": "code",
   "execution_count": 750,
   "metadata": {},
   "outputs": [
    {
     "data": {
      "text/plain": [
       "-      4446\n",
       "10       82\n",
       "20       65\n",
       "16       53\n",
       "12       49\n",
       "       ... \n",
       "376       1\n",
       "251       1\n",
       "731       1\n",
       "288       1\n",
       "140       1\n",
       "Name: Episodes, Length: 284, dtype: int64"
      ]
     },
     "execution_count": 750,
     "metadata": {},
     "output_type": "execute_result"
    }
   ],
   "source": [
    "imdb_data['Episodes'].value_counts()\n",
    "# In Episodes column There is so many null values(here represented as -)\n",
    "# So we can drop this column"
   ]
  },
  {
   "cell_type": "code",
   "execution_count": 751,
   "metadata": {},
   "outputs": [],
   "source": [
    "imdb_data.drop(['Episodes'],inplace=True,axis=1) # Dropping episodes column"
   ]
  },
  {
   "cell_type": "code",
   "execution_count": 752,
   "metadata": {},
   "outputs": [
    {
     "data": {
      "text/html": [
       "<div>\n",
       "<style scoped>\n",
       "    .dataframe tbody tr th:only-of-type {\n",
       "        vertical-align: middle;\n",
       "    }\n",
       "\n",
       "    .dataframe tbody tr th {\n",
       "        vertical-align: top;\n",
       "    }\n",
       "\n",
       "    .dataframe thead th {\n",
       "        text-align: right;\n",
       "    }\n",
       "</style>\n",
       "<table border=\"1\" class=\"dataframe\">\n",
       "  <thead>\n",
       "    <tr style=\"text-align: right;\">\n",
       "      <th></th>\n",
       "      <th>Name</th>\n",
       "      <th>Date</th>\n",
       "      <th>Rate</th>\n",
       "      <th>Votes</th>\n",
       "      <th>Genre</th>\n",
       "      <th>Duration</th>\n",
       "      <th>Type</th>\n",
       "      <th>Certificate</th>\n",
       "      <th>Nudity</th>\n",
       "      <th>Violence</th>\n",
       "      <th>Profanity</th>\n",
       "      <th>Alcohol</th>\n",
       "      <th>Frightening</th>\n",
       "    </tr>\n",
       "  </thead>\n",
       "  <tbody>\n",
       "    <tr>\n",
       "      <th>0</th>\n",
       "      <td>No Time to Die</td>\n",
       "      <td>2021</td>\n",
       "      <td>7.6</td>\n",
       "      <td>1,07,163</td>\n",
       "      <td>Action, Adventure, Thriller</td>\n",
       "      <td>163</td>\n",
       "      <td>Film</td>\n",
       "      <td>PG-13</td>\n",
       "      <td>Mild</td>\n",
       "      <td>Moderate</td>\n",
       "      <td>Mild</td>\n",
       "      <td>Mild</td>\n",
       "      <td>Moderate</td>\n",
       "    </tr>\n",
       "    <tr>\n",
       "      <th>1</th>\n",
       "      <td>The Guilty</td>\n",
       "      <td>2021</td>\n",
       "      <td>6.3</td>\n",
       "      <td>64,375</td>\n",
       "      <td>Crime, Drama, Thriller</td>\n",
       "      <td>90</td>\n",
       "      <td>Film</td>\n",
       "      <td>R</td>\n",
       "      <td>None</td>\n",
       "      <td>None</td>\n",
       "      <td>Severe</td>\n",
       "      <td>None</td>\n",
       "      <td>Moderate</td>\n",
       "    </tr>\n",
       "    <tr>\n",
       "      <th>2</th>\n",
       "      <td>The Many Saints of Newark</td>\n",
       "      <td>2021</td>\n",
       "      <td>6.4</td>\n",
       "      <td>27,145</td>\n",
       "      <td>Crime, Drama</td>\n",
       "      <td>120</td>\n",
       "      <td>Film</td>\n",
       "      <td>R</td>\n",
       "      <td>Moderate</td>\n",
       "      <td>Severe</td>\n",
       "      <td>Severe</td>\n",
       "      <td>Moderate</td>\n",
       "      <td>Moderate</td>\n",
       "    </tr>\n",
       "    <tr>\n",
       "      <th>3</th>\n",
       "      <td>Venom: Let There Be Carnage</td>\n",
       "      <td>2021</td>\n",
       "      <td>6.4</td>\n",
       "      <td>30,443</td>\n",
       "      <td>Action, Adventure, Sci-Fi</td>\n",
       "      <td>97</td>\n",
       "      <td>Film</td>\n",
       "      <td>PG-13</td>\n",
       "      <td>None</td>\n",
       "      <td>Moderate</td>\n",
       "      <td>Moderate</td>\n",
       "      <td>Mild</td>\n",
       "      <td>Moderate</td>\n",
       "    </tr>\n",
       "    <tr>\n",
       "      <th>4</th>\n",
       "      <td>Dune</td>\n",
       "      <td>2021</td>\n",
       "      <td>8.3</td>\n",
       "      <td>84,636</td>\n",
       "      <td>Action, Adventure, Drama</td>\n",
       "      <td>155</td>\n",
       "      <td>Film</td>\n",
       "      <td>PG-13</td>\n",
       "      <td>None</td>\n",
       "      <td>Moderate</td>\n",
       "      <td>None</td>\n",
       "      <td>Mild</td>\n",
       "      <td>Moderate</td>\n",
       "    </tr>\n",
       "  </tbody>\n",
       "</table>\n",
       "</div>"
      ],
      "text/plain": [
       "                          Name  Date Rate     Votes  \\\n",
       "0               No Time to Die  2021  7.6  1,07,163   \n",
       "1                   The Guilty  2021  6.3    64,375   \n",
       "2    The Many Saints of Newark  2021  6.4    27,145   \n",
       "3  Venom: Let There Be Carnage  2021  6.4    30,443   \n",
       "4                         Dune  2021  8.3    84,636   \n",
       "\n",
       "                         Genre Duration  Type Certificate    Nudity  Violence  \\\n",
       "0  Action, Adventure, Thriller      163  Film       PG-13      Mild  Moderate   \n",
       "1       Crime, Drama, Thriller       90  Film           R      None      None   \n",
       "2                 Crime, Drama      120  Film           R  Moderate    Severe   \n",
       "3    Action, Adventure, Sci-Fi       97  Film       PG-13      None  Moderate   \n",
       "4     Action, Adventure, Drama      155  Film       PG-13      None  Moderate   \n",
       "\n",
       "  Profanity   Alcohol Frightening  \n",
       "0      Mild      Mild    Moderate  \n",
       "1    Severe      None    Moderate  \n",
       "2    Severe  Moderate    Moderate  \n",
       "3  Moderate      Mild    Moderate  \n",
       "4      None      Mild    Moderate  "
      ]
     },
     "execution_count": 752,
     "metadata": {},
     "output_type": "execute_result"
    }
   ],
   "source": [
    "imdb_data.head()"
   ]
  },
  {
   "cell_type": "code",
   "execution_count": 753,
   "metadata": {},
   "outputs": [
    {
     "data": {
      "text/plain": [
       "1    2292\n",
       "0    2166\n",
       "2    1251\n",
       "3     469\n",
       "Name: Nudity, dtype: int64"
      ]
     },
     "execution_count": 753,
     "metadata": {},
     "output_type": "execute_result"
    }
   ],
   "source": [
    "imdb_data['Nudity'].value_counts() # In Nudity column there is null values\n",
    "imdb_data['Nudity']=imdb_data['Nudity'].replace({'No Rate':0,'Mild':1,'Moderate':2,'Severe':3,'None':0})\n",
    "imdb_data['Nudity'].value_counts()"
   ]
  },
  {
   "cell_type": "code",
   "execution_count": 754,
   "metadata": {},
   "outputs": [],
   "source": [
    "imdb_data['Violence'].value_counts()\n",
    "imdb_data['Violence']=imdb_data['Violence'].replace({'No Rate':0,'Mild':1,'Moderate':2,'Severe':3,'None':0})"
   ]
  },
  {
   "cell_type": "code",
   "execution_count": 755,
   "metadata": {},
   "outputs": [],
   "source": [
    "imdb_data['Profanity'].value_counts()\n",
    "imdb_data['Profanity']=imdb_data['Profanity'].replace({'No Rate':0,'Mild':1,'Moderate':2,'Severe':3,'None':0})"
   ]
  },
  {
   "cell_type": "code",
   "execution_count": 756,
   "metadata": {},
   "outputs": [],
   "source": [
    "imdb_data['Alcohol'].value_counts()\n",
    "imdb_data['Alcohol']=imdb_data['Alcohol'].replace({'No Rate':0,'Mild':1,'Moderate':2,'Severe':3,'None':0})"
   ]
  },
  {
   "cell_type": "code",
   "execution_count": 757,
   "metadata": {},
   "outputs": [],
   "source": [
    "imdb_data['Frightening'].value_counts()\n",
    "imdb_data['Frightening']=imdb_data['Frightening'].replace({'No Rate':0,'Mild':1,'Moderate':2,'Severe':3,'None':0})"
   ]
  },
  {
   "cell_type": "code",
   "execution_count": 758,
   "metadata": {},
   "outputs": [],
   "source": [
    "imdb_data['Rate']=imdb_data['Rate'].replace({'None':np.nan})\n",
    "imdb_data['Votes']=imdb_data['Votes'].replace({'None':np.nan})\n",
    "imdb_data['Genre']=imdb_data['Genre'].replace({'None':np.nan})\n",
    "imdb_data['Duration']=imdb_data['Duration'].replace({'None':np.nan})\n",
    "imdb_data['Certificate']=imdb_data['Certificate'].replace({'None':np.nan})\n",
    "imdb_data['Votes']=imdb_data['Votes'].replace({'No Votes':'NoVotes'})\n",
    "imdb_data['Votes']=imdb_data['Votes'].replace({'NoVotes':np.nan})"
   ]
  },
  {
   "cell_type": "code",
   "execution_count": null,
   "metadata": {},
   "outputs": [],
   "source": []
  },
  {
   "cell_type": "code",
   "execution_count": 759,
   "metadata": {},
   "outputs": [
    {
     "data": {
      "text/html": [
       "<div>\n",
       "<style scoped>\n",
       "    .dataframe tbody tr th:only-of-type {\n",
       "        vertical-align: middle;\n",
       "    }\n",
       "\n",
       "    .dataframe tbody tr th {\n",
       "        vertical-align: top;\n",
       "    }\n",
       "\n",
       "    .dataframe thead th {\n",
       "        text-align: right;\n",
       "    }\n",
       "</style>\n",
       "<table border=\"1\" class=\"dataframe\">\n",
       "  <thead>\n",
       "    <tr style=\"text-align: right;\">\n",
       "      <th></th>\n",
       "      <th>Name</th>\n",
       "      <th>Date</th>\n",
       "      <th>Rate</th>\n",
       "      <th>Votes</th>\n",
       "      <th>Genre</th>\n",
       "      <th>Duration</th>\n",
       "      <th>Type</th>\n",
       "      <th>Certificate</th>\n",
       "      <th>Nudity</th>\n",
       "      <th>Violence</th>\n",
       "      <th>Profanity</th>\n",
       "      <th>Alcohol</th>\n",
       "      <th>Frightening</th>\n",
       "    </tr>\n",
       "  </thead>\n",
       "  <tbody>\n",
       "    <tr>\n",
       "      <th>0</th>\n",
       "      <td>No Time to Die</td>\n",
       "      <td>2021</td>\n",
       "      <td>7.6</td>\n",
       "      <td>1,07,163</td>\n",
       "      <td>Action, Adventure, Thriller</td>\n",
       "      <td>163</td>\n",
       "      <td>Film</td>\n",
       "      <td>PG-13</td>\n",
       "      <td>1</td>\n",
       "      <td>2</td>\n",
       "      <td>1</td>\n",
       "      <td>1</td>\n",
       "      <td>2</td>\n",
       "    </tr>\n",
       "    <tr>\n",
       "      <th>1</th>\n",
       "      <td>The Guilty</td>\n",
       "      <td>2021</td>\n",
       "      <td>6.3</td>\n",
       "      <td>64,375</td>\n",
       "      <td>Crime, Drama, Thriller</td>\n",
       "      <td>90</td>\n",
       "      <td>Film</td>\n",
       "      <td>R</td>\n",
       "      <td>0</td>\n",
       "      <td>0</td>\n",
       "      <td>3</td>\n",
       "      <td>0</td>\n",
       "      <td>2</td>\n",
       "    </tr>\n",
       "    <tr>\n",
       "      <th>2</th>\n",
       "      <td>The Many Saints of Newark</td>\n",
       "      <td>2021</td>\n",
       "      <td>6.4</td>\n",
       "      <td>27,145</td>\n",
       "      <td>Crime, Drama</td>\n",
       "      <td>120</td>\n",
       "      <td>Film</td>\n",
       "      <td>R</td>\n",
       "      <td>2</td>\n",
       "      <td>3</td>\n",
       "      <td>3</td>\n",
       "      <td>2</td>\n",
       "      <td>2</td>\n",
       "    </tr>\n",
       "    <tr>\n",
       "      <th>3</th>\n",
       "      <td>Venom: Let There Be Carnage</td>\n",
       "      <td>2021</td>\n",
       "      <td>6.4</td>\n",
       "      <td>30,443</td>\n",
       "      <td>Action, Adventure, Sci-Fi</td>\n",
       "      <td>97</td>\n",
       "      <td>Film</td>\n",
       "      <td>PG-13</td>\n",
       "      <td>0</td>\n",
       "      <td>2</td>\n",
       "      <td>2</td>\n",
       "      <td>1</td>\n",
       "      <td>2</td>\n",
       "    </tr>\n",
       "    <tr>\n",
       "      <th>4</th>\n",
       "      <td>Dune</td>\n",
       "      <td>2021</td>\n",
       "      <td>8.3</td>\n",
       "      <td>84,636</td>\n",
       "      <td>Action, Adventure, Drama</td>\n",
       "      <td>155</td>\n",
       "      <td>Film</td>\n",
       "      <td>PG-13</td>\n",
       "      <td>0</td>\n",
       "      <td>2</td>\n",
       "      <td>0</td>\n",
       "      <td>1</td>\n",
       "      <td>2</td>\n",
       "    </tr>\n",
       "  </tbody>\n",
       "</table>\n",
       "</div>"
      ],
      "text/plain": [
       "                          Name  Date Rate     Votes  \\\n",
       "0               No Time to Die  2021  7.6  1,07,163   \n",
       "1                   The Guilty  2021  6.3    64,375   \n",
       "2    The Many Saints of Newark  2021  6.4    27,145   \n",
       "3  Venom: Let There Be Carnage  2021  6.4    30,443   \n",
       "4                         Dune  2021  8.3    84,636   \n",
       "\n",
       "                         Genre Duration  Type Certificate  Nudity  Violence  \\\n",
       "0  Action, Adventure, Thriller      163  Film       PG-13       1         2   \n",
       "1       Crime, Drama, Thriller       90  Film           R       0         0   \n",
       "2                 Crime, Drama      120  Film           R       2         3   \n",
       "3    Action, Adventure, Sci-Fi       97  Film       PG-13       0         2   \n",
       "4     Action, Adventure, Drama      155  Film       PG-13       0         2   \n",
       "\n",
       "   Profanity  Alcohol  Frightening  \n",
       "0          1        1            2  \n",
       "1          3        0            2  \n",
       "2          3        2            2  \n",
       "3          2        1            2  \n",
       "4          0        1            2  "
      ]
     },
     "execution_count": 759,
     "metadata": {},
     "output_type": "execute_result"
    }
   ],
   "source": [
    "imdb_data.head()"
   ]
  },
  {
   "cell_type": "code",
   "execution_count": 760,
   "metadata": {},
   "outputs": [
    {
     "data": {
      "text/plain": [
       "15.150534153447717"
      ]
     },
     "execution_count": 760,
     "metadata": {},
     "output_type": "execute_result"
    }
   ],
   "source": [
    "imdb_data.isnull().sum().sum()/len(imdb_data)*100 # 12% data are null so we can drop"
   ]
  },
  {
   "cell_type": "code",
   "execution_count": 761,
   "metadata": {},
   "outputs": [],
   "source": [
    "imdb_data=imdb_data.dropna()"
   ]
  },
  {
   "cell_type": "code",
   "execution_count": 762,
   "metadata": {},
   "outputs": [
    {
     "data": {
      "text/plain": [
       "0.0"
      ]
     },
     "execution_count": 762,
     "metadata": {},
     "output_type": "execute_result"
    }
   ],
   "source": [
    "imdb_data.isnull().sum().sum()/len(imdb_data)*100 # Null values have treated"
   ]
  },
  {
   "cell_type": "code",
   "execution_count": 763,
   "metadata": {},
   "outputs": [],
   "source": [
    "# Now lets find duplicated values"
   ]
  },
  {
   "cell_type": "code",
   "execution_count": 764,
   "metadata": {},
   "outputs": [
    {
     "data": {
      "text/plain": [
       "18.28438395415473"
      ]
     },
     "execution_count": 764,
     "metadata": {},
     "output_type": "execute_result"
    }
   ],
   "source": [
    "imdb_data.duplicated().sum()/len(imdb_data)*100 # 18 % data are duplicated lets drop it "
   ]
  },
  {
   "cell_type": "code",
   "execution_count": 765,
   "metadata": {},
   "outputs": [],
   "source": [
    "imdb_data=imdb_data.drop_duplicates(keep = 'first')"
   ]
  },
  {
   "cell_type": "code",
   "execution_count": 766,
   "metadata": {},
   "outputs": [
    {
     "data": {
      "text/plain": [
       "0.0"
      ]
     },
     "execution_count": 766,
     "metadata": {},
     "output_type": "execute_result"
    }
   ],
   "source": [
    "imdb_data.duplicated().sum()/len(imdb_data)*100 # Duplicated data have been treated"
   ]
  },
  {
   "cell_type": "code",
   "execution_count": 767,
   "metadata": {},
   "outputs": [
    {
     "data": {
      "text/plain": [
       "(4563, 13)"
      ]
     },
     "execution_count": 767,
     "metadata": {},
     "output_type": "execute_result"
    }
   ],
   "source": [
    "imdb_data.shape"
   ]
  },
  {
   "cell_type": "code",
   "execution_count": 768,
   "metadata": {},
   "outputs": [],
   "source": [
    "# Lets remove the commas present in features"
   ]
  },
  {
   "cell_type": "code",
   "execution_count": 769,
   "metadata": {},
   "outputs": [
    {
     "data": {
      "text/html": [
       "<div>\n",
       "<style scoped>\n",
       "    .dataframe tbody tr th:only-of-type {\n",
       "        vertical-align: middle;\n",
       "    }\n",
       "\n",
       "    .dataframe tbody tr th {\n",
       "        vertical-align: top;\n",
       "    }\n",
       "\n",
       "    .dataframe thead th {\n",
       "        text-align: right;\n",
       "    }\n",
       "</style>\n",
       "<table border=\"1\" class=\"dataframe\">\n",
       "  <thead>\n",
       "    <tr style=\"text-align: right;\">\n",
       "      <th></th>\n",
       "      <th>Name</th>\n",
       "      <th>Date</th>\n",
       "      <th>Rate</th>\n",
       "      <th>Votes</th>\n",
       "      <th>Genre</th>\n",
       "      <th>Duration</th>\n",
       "      <th>Type</th>\n",
       "      <th>Certificate</th>\n",
       "      <th>Nudity</th>\n",
       "      <th>Violence</th>\n",
       "      <th>Profanity</th>\n",
       "      <th>Alcohol</th>\n",
       "      <th>Frightening</th>\n",
       "    </tr>\n",
       "  </thead>\n",
       "  <tbody>\n",
       "    <tr>\n",
       "      <th>0</th>\n",
       "      <td>No Time to Die</td>\n",
       "      <td>2021</td>\n",
       "      <td>7.6</td>\n",
       "      <td>1,07,163</td>\n",
       "      <td>Action, Adventure, Thriller</td>\n",
       "      <td>163</td>\n",
       "      <td>Film</td>\n",
       "      <td>PG-13</td>\n",
       "      <td>1</td>\n",
       "      <td>2</td>\n",
       "      <td>1</td>\n",
       "      <td>1</td>\n",
       "      <td>2</td>\n",
       "    </tr>\n",
       "    <tr>\n",
       "      <th>1</th>\n",
       "      <td>The Guilty</td>\n",
       "      <td>2021</td>\n",
       "      <td>6.3</td>\n",
       "      <td>64,375</td>\n",
       "      <td>Crime, Drama, Thriller</td>\n",
       "      <td>90</td>\n",
       "      <td>Film</td>\n",
       "      <td>R</td>\n",
       "      <td>0</td>\n",
       "      <td>0</td>\n",
       "      <td>3</td>\n",
       "      <td>0</td>\n",
       "      <td>2</td>\n",
       "    </tr>\n",
       "    <tr>\n",
       "      <th>2</th>\n",
       "      <td>The Many Saints of Newark</td>\n",
       "      <td>2021</td>\n",
       "      <td>6.4</td>\n",
       "      <td>27,145</td>\n",
       "      <td>Crime, Drama</td>\n",
       "      <td>120</td>\n",
       "      <td>Film</td>\n",
       "      <td>R</td>\n",
       "      <td>2</td>\n",
       "      <td>3</td>\n",
       "      <td>3</td>\n",
       "      <td>2</td>\n",
       "      <td>2</td>\n",
       "    </tr>\n",
       "    <tr>\n",
       "      <th>3</th>\n",
       "      <td>Venom: Let There Be Carnage</td>\n",
       "      <td>2021</td>\n",
       "      <td>6.4</td>\n",
       "      <td>30,443</td>\n",
       "      <td>Action, Adventure, Sci-Fi</td>\n",
       "      <td>97</td>\n",
       "      <td>Film</td>\n",
       "      <td>PG-13</td>\n",
       "      <td>0</td>\n",
       "      <td>2</td>\n",
       "      <td>2</td>\n",
       "      <td>1</td>\n",
       "      <td>2</td>\n",
       "    </tr>\n",
       "    <tr>\n",
       "      <th>4</th>\n",
       "      <td>Dune</td>\n",
       "      <td>2021</td>\n",
       "      <td>8.3</td>\n",
       "      <td>84,636</td>\n",
       "      <td>Action, Adventure, Drama</td>\n",
       "      <td>155</td>\n",
       "      <td>Film</td>\n",
       "      <td>PG-13</td>\n",
       "      <td>0</td>\n",
       "      <td>2</td>\n",
       "      <td>0</td>\n",
       "      <td>1</td>\n",
       "      <td>2</td>\n",
       "    </tr>\n",
       "  </tbody>\n",
       "</table>\n",
       "</div>"
      ],
      "text/plain": [
       "                          Name  Date Rate     Votes  \\\n",
       "0               No Time to Die  2021  7.6  1,07,163   \n",
       "1                   The Guilty  2021  6.3    64,375   \n",
       "2    The Many Saints of Newark  2021  6.4    27,145   \n",
       "3  Venom: Let There Be Carnage  2021  6.4    30,443   \n",
       "4                         Dune  2021  8.3    84,636   \n",
       "\n",
       "                         Genre Duration  Type Certificate  Nudity  Violence  \\\n",
       "0  Action, Adventure, Thriller      163  Film       PG-13       1         2   \n",
       "1       Crime, Drama, Thriller       90  Film           R       0         0   \n",
       "2                 Crime, Drama      120  Film           R       2         3   \n",
       "3    Action, Adventure, Sci-Fi       97  Film       PG-13       0         2   \n",
       "4     Action, Adventure, Drama      155  Film       PG-13       0         2   \n",
       "\n",
       "   Profanity  Alcohol  Frightening  \n",
       "0          1        1            2  \n",
       "1          3        0            2  \n",
       "2          3        2            2  \n",
       "3          2        1            2  \n",
       "4          0        1            2  "
      ]
     },
     "execution_count": 769,
     "metadata": {},
     "output_type": "execute_result"
    }
   ],
   "source": [
    "imdb_data.head()"
   ]
  },
  {
   "cell_type": "code",
   "execution_count": 770,
   "metadata": {},
   "outputs": [],
   "source": [
    "imdb_data['Genre'] = imdb_data['Genre'].str.replace(' ', '')\n",
    "genre_cols = imdb_data['Genre'].str.get_dummies(sep=',')"
   ]
  },
  {
   "cell_type": "code",
   "execution_count": 771,
   "metadata": {},
   "outputs": [],
   "source": [
    "imdb_data.drop('Genre', axis=1, inplace=True)"
   ]
  },
  {
   "cell_type": "code",
   "execution_count": 772,
   "metadata": {},
   "outputs": [],
   "source": [
    "imdb_data = pd.concat([imdb_data, genre_cols], axis=1)"
   ]
  },
  {
   "cell_type": "code",
   "execution_count": 773,
   "metadata": {},
   "outputs": [],
   "source": [
    "imdb_data['Votes'] = imdb_data['Votes'].str.replace(',', '')"
   ]
  },
  {
   "cell_type": "code",
   "execution_count": 774,
   "metadata": {},
   "outputs": [
    {
     "data": {
      "text/html": [
       "<div>\n",
       "<style scoped>\n",
       "    .dataframe tbody tr th:only-of-type {\n",
       "        vertical-align: middle;\n",
       "    }\n",
       "\n",
       "    .dataframe tbody tr th {\n",
       "        vertical-align: top;\n",
       "    }\n",
       "\n",
       "    .dataframe thead th {\n",
       "        text-align: right;\n",
       "    }\n",
       "</style>\n",
       "<table border=\"1\" class=\"dataframe\">\n",
       "  <thead>\n",
       "    <tr style=\"text-align: right;\">\n",
       "      <th></th>\n",
       "      <th>Name</th>\n",
       "      <th>Date</th>\n",
       "      <th>Rate</th>\n",
       "      <th>Votes</th>\n",
       "      <th>Duration</th>\n",
       "      <th>Type</th>\n",
       "      <th>Certificate</th>\n",
       "      <th>Nudity</th>\n",
       "      <th>Violence</th>\n",
       "      <th>Profanity</th>\n",
       "      <th>...</th>\n",
       "      <th>News</th>\n",
       "      <th>Reality-TV</th>\n",
       "      <th>Romance</th>\n",
       "      <th>Sci-Fi</th>\n",
       "      <th>Short</th>\n",
       "      <th>Sport</th>\n",
       "      <th>Talk-Show</th>\n",
       "      <th>Thriller</th>\n",
       "      <th>War</th>\n",
       "      <th>Western</th>\n",
       "    </tr>\n",
       "  </thead>\n",
       "  <tbody>\n",
       "    <tr>\n",
       "      <th>0</th>\n",
       "      <td>No Time to Die</td>\n",
       "      <td>2021</td>\n",
       "      <td>7.6</td>\n",
       "      <td>107163</td>\n",
       "      <td>163</td>\n",
       "      <td>Film</td>\n",
       "      <td>PG-13</td>\n",
       "      <td>1</td>\n",
       "      <td>2</td>\n",
       "      <td>1</td>\n",
       "      <td>...</td>\n",
       "      <td>0</td>\n",
       "      <td>0</td>\n",
       "      <td>0</td>\n",
       "      <td>0</td>\n",
       "      <td>0</td>\n",
       "      <td>0</td>\n",
       "      <td>0</td>\n",
       "      <td>1</td>\n",
       "      <td>0</td>\n",
       "      <td>0</td>\n",
       "    </tr>\n",
       "    <tr>\n",
       "      <th>1</th>\n",
       "      <td>The Guilty</td>\n",
       "      <td>2021</td>\n",
       "      <td>6.3</td>\n",
       "      <td>64375</td>\n",
       "      <td>90</td>\n",
       "      <td>Film</td>\n",
       "      <td>R</td>\n",
       "      <td>0</td>\n",
       "      <td>0</td>\n",
       "      <td>3</td>\n",
       "      <td>...</td>\n",
       "      <td>0</td>\n",
       "      <td>0</td>\n",
       "      <td>0</td>\n",
       "      <td>0</td>\n",
       "      <td>0</td>\n",
       "      <td>0</td>\n",
       "      <td>0</td>\n",
       "      <td>1</td>\n",
       "      <td>0</td>\n",
       "      <td>0</td>\n",
       "    </tr>\n",
       "    <tr>\n",
       "      <th>2</th>\n",
       "      <td>The Many Saints of Newark</td>\n",
       "      <td>2021</td>\n",
       "      <td>6.4</td>\n",
       "      <td>27145</td>\n",
       "      <td>120</td>\n",
       "      <td>Film</td>\n",
       "      <td>R</td>\n",
       "      <td>2</td>\n",
       "      <td>3</td>\n",
       "      <td>3</td>\n",
       "      <td>...</td>\n",
       "      <td>0</td>\n",
       "      <td>0</td>\n",
       "      <td>0</td>\n",
       "      <td>0</td>\n",
       "      <td>0</td>\n",
       "      <td>0</td>\n",
       "      <td>0</td>\n",
       "      <td>0</td>\n",
       "      <td>0</td>\n",
       "      <td>0</td>\n",
       "    </tr>\n",
       "    <tr>\n",
       "      <th>3</th>\n",
       "      <td>Venom: Let There Be Carnage</td>\n",
       "      <td>2021</td>\n",
       "      <td>6.4</td>\n",
       "      <td>30443</td>\n",
       "      <td>97</td>\n",
       "      <td>Film</td>\n",
       "      <td>PG-13</td>\n",
       "      <td>0</td>\n",
       "      <td>2</td>\n",
       "      <td>2</td>\n",
       "      <td>...</td>\n",
       "      <td>0</td>\n",
       "      <td>0</td>\n",
       "      <td>0</td>\n",
       "      <td>1</td>\n",
       "      <td>0</td>\n",
       "      <td>0</td>\n",
       "      <td>0</td>\n",
       "      <td>0</td>\n",
       "      <td>0</td>\n",
       "      <td>0</td>\n",
       "    </tr>\n",
       "    <tr>\n",
       "      <th>4</th>\n",
       "      <td>Dune</td>\n",
       "      <td>2021</td>\n",
       "      <td>8.3</td>\n",
       "      <td>84636</td>\n",
       "      <td>155</td>\n",
       "      <td>Film</td>\n",
       "      <td>PG-13</td>\n",
       "      <td>0</td>\n",
       "      <td>2</td>\n",
       "      <td>0</td>\n",
       "      <td>...</td>\n",
       "      <td>0</td>\n",
       "      <td>0</td>\n",
       "      <td>0</td>\n",
       "      <td>0</td>\n",
       "      <td>0</td>\n",
       "      <td>0</td>\n",
       "      <td>0</td>\n",
       "      <td>0</td>\n",
       "      <td>0</td>\n",
       "      <td>0</td>\n",
       "    </tr>\n",
       "  </tbody>\n",
       "</table>\n",
       "<p>5 rows × 39 columns</p>\n",
       "</div>"
      ],
      "text/plain": [
       "                          Name  Date Rate   Votes Duration  Type Certificate  \\\n",
       "0               No Time to Die  2021  7.6  107163      163  Film       PG-13   \n",
       "1                   The Guilty  2021  6.3   64375       90  Film           R   \n",
       "2    The Many Saints of Newark  2021  6.4   27145      120  Film           R   \n",
       "3  Venom: Let There Be Carnage  2021  6.4   30443       97  Film       PG-13   \n",
       "4                         Dune  2021  8.3   84636      155  Film       PG-13   \n",
       "\n",
       "   Nudity  Violence  Profanity  ...  News  Reality-TV  Romance  Sci-Fi  Short  \\\n",
       "0       1         2          1  ...     0           0        0       0      0   \n",
       "1       0         0          3  ...     0           0        0       0      0   \n",
       "2       2         3          3  ...     0           0        0       0      0   \n",
       "3       0         2          2  ...     0           0        0       1      0   \n",
       "4       0         2          0  ...     0           0        0       0      0   \n",
       "\n",
       "   Sport  Talk-Show  Thriller  War  Western  \n",
       "0      0          0         1    0        0  \n",
       "1      0          0         1    0        0  \n",
       "2      0          0         0    0        0  \n",
       "3      0          0         0    0        0  \n",
       "4      0          0         0    0        0  \n",
       "\n",
       "[5 rows x 39 columns]"
      ]
     },
     "execution_count": 774,
     "metadata": {},
     "output_type": "execute_result"
    }
   ],
   "source": [
    "imdb_data.head()"
   ]
  },
  {
   "cell_type": "code",
   "execution_count": 775,
   "metadata": {},
   "outputs": [],
   "source": [
    "# Lets change to appropriate data type"
   ]
  },
  {
   "cell_type": "code",
   "execution_count": 776,
   "metadata": {},
   "outputs": [],
   "source": [
    "imdb_data['Duration'] = imdb_data['Duration'].astype('int')"
   ]
  },
  {
   "cell_type": "code",
   "execution_count": 777,
   "metadata": {},
   "outputs": [],
   "source": [
    "imdb_data['Votes'] = imdb_data['Votes'].astype('int')"
   ]
  },
  {
   "cell_type": "code",
   "execution_count": 778,
   "metadata": {},
   "outputs": [],
   "source": [
    "imdb_data['Rate'] = imdb_data['Rate'].astype('float')"
   ]
  },
  {
   "cell_type": "code",
   "execution_count": 779,
   "metadata": {},
   "outputs": [
    {
     "data": {
      "text/plain": [
       "Name            object\n",
       "Date             int64\n",
       "Rate           float64\n",
       "Votes            int32\n",
       "Duration         int32\n",
       "Type            object\n",
       "Certificate     object\n",
       "Nudity           int64\n",
       "Violence         int64\n",
       "Profanity        int64\n",
       "Alcohol          int64\n",
       "Frightening      int64\n",
       "Action           int64\n",
       "Adventure        int64\n",
       "Animation        int64\n",
       "Biography        int64\n",
       "Comedy           int64\n",
       "Crime            int64\n",
       "Documentary      int64\n",
       "Drama            int64\n",
       "Family           int64\n",
       "Fantasy          int64\n",
       "Film-Noir        int64\n",
       "Game-Show        int64\n",
       "History          int64\n",
       "Horror           int64\n",
       "Music            int64\n",
       "Musical          int64\n",
       "Mystery          int64\n",
       "News             int64\n",
       "Reality-TV       int64\n",
       "Romance          int64\n",
       "Sci-Fi           int64\n",
       "Short            int64\n",
       "Sport            int64\n",
       "Talk-Show        int64\n",
       "Thriller         int64\n",
       "War              int64\n",
       "Western          int64\n",
       "dtype: object"
      ]
     },
     "execution_count": 779,
     "metadata": {},
     "output_type": "execute_result"
    }
   ],
   "source": [
    "imdb_data.dtypes"
   ]
  },
  {
   "cell_type": "code",
   "execution_count": 780,
   "metadata": {},
   "outputs": [
    {
     "data": {
      "text/html": [
       "<div>\n",
       "<style scoped>\n",
       "    .dataframe tbody tr th:only-of-type {\n",
       "        vertical-align: middle;\n",
       "    }\n",
       "\n",
       "    .dataframe tbody tr th {\n",
       "        vertical-align: top;\n",
       "    }\n",
       "\n",
       "    .dataframe thead th {\n",
       "        text-align: right;\n",
       "    }\n",
       "</style>\n",
       "<table border=\"1\" class=\"dataframe\">\n",
       "  <thead>\n",
       "    <tr style=\"text-align: right;\">\n",
       "      <th></th>\n",
       "      <th>Name</th>\n",
       "      <th>Date</th>\n",
       "      <th>Rate</th>\n",
       "      <th>Votes</th>\n",
       "      <th>Duration</th>\n",
       "      <th>Type</th>\n",
       "      <th>Certificate</th>\n",
       "      <th>Nudity</th>\n",
       "      <th>Violence</th>\n",
       "      <th>Profanity</th>\n",
       "      <th>...</th>\n",
       "      <th>News</th>\n",
       "      <th>Reality-TV</th>\n",
       "      <th>Romance</th>\n",
       "      <th>Sci-Fi</th>\n",
       "      <th>Short</th>\n",
       "      <th>Sport</th>\n",
       "      <th>Talk-Show</th>\n",
       "      <th>Thriller</th>\n",
       "      <th>War</th>\n",
       "      <th>Western</th>\n",
       "    </tr>\n",
       "  </thead>\n",
       "  <tbody>\n",
       "    <tr>\n",
       "      <th>0</th>\n",
       "      <td>No Time to Die</td>\n",
       "      <td>2021</td>\n",
       "      <td>7.6</td>\n",
       "      <td>107163</td>\n",
       "      <td>163</td>\n",
       "      <td>Film</td>\n",
       "      <td>PG-13</td>\n",
       "      <td>1</td>\n",
       "      <td>2</td>\n",
       "      <td>1</td>\n",
       "      <td>...</td>\n",
       "      <td>0</td>\n",
       "      <td>0</td>\n",
       "      <td>0</td>\n",
       "      <td>0</td>\n",
       "      <td>0</td>\n",
       "      <td>0</td>\n",
       "      <td>0</td>\n",
       "      <td>1</td>\n",
       "      <td>0</td>\n",
       "      <td>0</td>\n",
       "    </tr>\n",
       "    <tr>\n",
       "      <th>1</th>\n",
       "      <td>The Guilty</td>\n",
       "      <td>2021</td>\n",
       "      <td>6.3</td>\n",
       "      <td>64375</td>\n",
       "      <td>90</td>\n",
       "      <td>Film</td>\n",
       "      <td>R</td>\n",
       "      <td>0</td>\n",
       "      <td>0</td>\n",
       "      <td>3</td>\n",
       "      <td>...</td>\n",
       "      <td>0</td>\n",
       "      <td>0</td>\n",
       "      <td>0</td>\n",
       "      <td>0</td>\n",
       "      <td>0</td>\n",
       "      <td>0</td>\n",
       "      <td>0</td>\n",
       "      <td>1</td>\n",
       "      <td>0</td>\n",
       "      <td>0</td>\n",
       "    </tr>\n",
       "    <tr>\n",
       "      <th>2</th>\n",
       "      <td>The Many Saints of Newark</td>\n",
       "      <td>2021</td>\n",
       "      <td>6.4</td>\n",
       "      <td>27145</td>\n",
       "      <td>120</td>\n",
       "      <td>Film</td>\n",
       "      <td>R</td>\n",
       "      <td>2</td>\n",
       "      <td>3</td>\n",
       "      <td>3</td>\n",
       "      <td>...</td>\n",
       "      <td>0</td>\n",
       "      <td>0</td>\n",
       "      <td>0</td>\n",
       "      <td>0</td>\n",
       "      <td>0</td>\n",
       "      <td>0</td>\n",
       "      <td>0</td>\n",
       "      <td>0</td>\n",
       "      <td>0</td>\n",
       "      <td>0</td>\n",
       "    </tr>\n",
       "    <tr>\n",
       "      <th>3</th>\n",
       "      <td>Venom: Let There Be Carnage</td>\n",
       "      <td>2021</td>\n",
       "      <td>6.4</td>\n",
       "      <td>30443</td>\n",
       "      <td>97</td>\n",
       "      <td>Film</td>\n",
       "      <td>PG-13</td>\n",
       "      <td>0</td>\n",
       "      <td>2</td>\n",
       "      <td>2</td>\n",
       "      <td>...</td>\n",
       "      <td>0</td>\n",
       "      <td>0</td>\n",
       "      <td>0</td>\n",
       "      <td>1</td>\n",
       "      <td>0</td>\n",
       "      <td>0</td>\n",
       "      <td>0</td>\n",
       "      <td>0</td>\n",
       "      <td>0</td>\n",
       "      <td>0</td>\n",
       "    </tr>\n",
       "    <tr>\n",
       "      <th>4</th>\n",
       "      <td>Dune</td>\n",
       "      <td>2021</td>\n",
       "      <td>8.3</td>\n",
       "      <td>84636</td>\n",
       "      <td>155</td>\n",
       "      <td>Film</td>\n",
       "      <td>PG-13</td>\n",
       "      <td>0</td>\n",
       "      <td>2</td>\n",
       "      <td>0</td>\n",
       "      <td>...</td>\n",
       "      <td>0</td>\n",
       "      <td>0</td>\n",
       "      <td>0</td>\n",
       "      <td>0</td>\n",
       "      <td>0</td>\n",
       "      <td>0</td>\n",
       "      <td>0</td>\n",
       "      <td>0</td>\n",
       "      <td>0</td>\n",
       "      <td>0</td>\n",
       "    </tr>\n",
       "  </tbody>\n",
       "</table>\n",
       "<p>5 rows × 39 columns</p>\n",
       "</div>"
      ],
      "text/plain": [
       "                          Name  Date  Rate   Votes  Duration  Type  \\\n",
       "0               No Time to Die  2021   7.6  107163       163  Film   \n",
       "1                   The Guilty  2021   6.3   64375        90  Film   \n",
       "2    The Many Saints of Newark  2021   6.4   27145       120  Film   \n",
       "3  Venom: Let There Be Carnage  2021   6.4   30443        97  Film   \n",
       "4                         Dune  2021   8.3   84636       155  Film   \n",
       "\n",
       "  Certificate  Nudity  Violence  Profanity  ...  News  Reality-TV  Romance  \\\n",
       "0       PG-13       1         2          1  ...     0           0        0   \n",
       "1           R       0         0          3  ...     0           0        0   \n",
       "2           R       2         3          3  ...     0           0        0   \n",
       "3       PG-13       0         2          2  ...     0           0        0   \n",
       "4       PG-13       0         2          0  ...     0           0        0   \n",
       "\n",
       "   Sci-Fi  Short  Sport  Talk-Show  Thriller  War  Western  \n",
       "0       0      0      0          0         1    0        0  \n",
       "1       0      0      0          0         1    0        0  \n",
       "2       0      0      0          0         0    0        0  \n",
       "3       1      0      0          0         0    0        0  \n",
       "4       0      0      0          0         0    0        0  \n",
       "\n",
       "[5 rows x 39 columns]"
      ]
     },
     "execution_count": 780,
     "metadata": {},
     "output_type": "execute_result"
    }
   ],
   "source": [
    "imdb_data.head()"
   ]
  },
  {
   "cell_type": "code",
   "execution_count": 781,
   "metadata": {},
   "outputs": [],
   "source": [
    "# Lets do encoding on Type and Certificate"
   ]
  },
  {
   "cell_type": "code",
   "execution_count": 782,
   "metadata": {},
   "outputs": [],
   "source": [
    "type_cols = imdb_data['Type'].str.get_dummies() # Or type_cols=pd.get_dummies(df['Type'])\n",
    "imdb_data.drop('Type', axis=1, inplace=True)\n",
    "imdb_data = pd.concat([imdb_data, type_cols], axis=1)"
   ]
  },
  {
   "cell_type": "code",
   "execution_count": 783,
   "metadata": {},
   "outputs": [],
   "source": [
    "cert_cols = imdb_data['Certificate'].str.get_dummies()\n",
    "imdb_data.drop('Certificate', axis=1, inplace=True)\n",
    "imdb_data = pd.concat([imdb_data, cert_cols], axis=1)"
   ]
  },
  {
   "cell_type": "code",
   "execution_count": 784,
   "metadata": {},
   "outputs": [
    {
     "data": {
      "text/html": [
       "<div>\n",
       "<style scoped>\n",
       "    .dataframe tbody tr th:only-of-type {\n",
       "        vertical-align: middle;\n",
       "    }\n",
       "\n",
       "    .dataframe tbody tr th {\n",
       "        vertical-align: top;\n",
       "    }\n",
       "\n",
       "    .dataframe thead th {\n",
       "        text-align: right;\n",
       "    }\n",
       "</style>\n",
       "<table border=\"1\" class=\"dataframe\">\n",
       "  <thead>\n",
       "    <tr style=\"text-align: right;\">\n",
       "      <th></th>\n",
       "      <th>Name</th>\n",
       "      <th>Date</th>\n",
       "      <th>Rate</th>\n",
       "      <th>Votes</th>\n",
       "      <th>Duration</th>\n",
       "      <th>Nudity</th>\n",
       "      <th>Violence</th>\n",
       "      <th>Profanity</th>\n",
       "      <th>Alcohol</th>\n",
       "      <th>Frightening</th>\n",
       "      <th>...</th>\n",
       "      <th>R</th>\n",
       "      <th>TV-14</th>\n",
       "      <th>TV-G</th>\n",
       "      <th>TV-MA</th>\n",
       "      <th>TV-PG</th>\n",
       "      <th>TV-Y</th>\n",
       "      <th>TV-Y7</th>\n",
       "      <th>TV-Y7-FV</th>\n",
       "      <th>Unrated</th>\n",
       "      <th>X</th>\n",
       "    </tr>\n",
       "  </thead>\n",
       "  <tbody>\n",
       "    <tr>\n",
       "      <th>0</th>\n",
       "      <td>No Time to Die</td>\n",
       "      <td>2021</td>\n",
       "      <td>7.6</td>\n",
       "      <td>107163</td>\n",
       "      <td>163</td>\n",
       "      <td>1</td>\n",
       "      <td>2</td>\n",
       "      <td>1</td>\n",
       "      <td>1</td>\n",
       "      <td>2</td>\n",
       "      <td>...</td>\n",
       "      <td>0</td>\n",
       "      <td>0</td>\n",
       "      <td>0</td>\n",
       "      <td>0</td>\n",
       "      <td>0</td>\n",
       "      <td>0</td>\n",
       "      <td>0</td>\n",
       "      <td>0</td>\n",
       "      <td>0</td>\n",
       "      <td>0</td>\n",
       "    </tr>\n",
       "    <tr>\n",
       "      <th>1</th>\n",
       "      <td>The Guilty</td>\n",
       "      <td>2021</td>\n",
       "      <td>6.3</td>\n",
       "      <td>64375</td>\n",
       "      <td>90</td>\n",
       "      <td>0</td>\n",
       "      <td>0</td>\n",
       "      <td>3</td>\n",
       "      <td>0</td>\n",
       "      <td>2</td>\n",
       "      <td>...</td>\n",
       "      <td>1</td>\n",
       "      <td>0</td>\n",
       "      <td>0</td>\n",
       "      <td>0</td>\n",
       "      <td>0</td>\n",
       "      <td>0</td>\n",
       "      <td>0</td>\n",
       "      <td>0</td>\n",
       "      <td>0</td>\n",
       "      <td>0</td>\n",
       "    </tr>\n",
       "    <tr>\n",
       "      <th>2</th>\n",
       "      <td>The Many Saints of Newark</td>\n",
       "      <td>2021</td>\n",
       "      <td>6.4</td>\n",
       "      <td>27145</td>\n",
       "      <td>120</td>\n",
       "      <td>2</td>\n",
       "      <td>3</td>\n",
       "      <td>3</td>\n",
       "      <td>2</td>\n",
       "      <td>2</td>\n",
       "      <td>...</td>\n",
       "      <td>1</td>\n",
       "      <td>0</td>\n",
       "      <td>0</td>\n",
       "      <td>0</td>\n",
       "      <td>0</td>\n",
       "      <td>0</td>\n",
       "      <td>0</td>\n",
       "      <td>0</td>\n",
       "      <td>0</td>\n",
       "      <td>0</td>\n",
       "    </tr>\n",
       "    <tr>\n",
       "      <th>3</th>\n",
       "      <td>Venom: Let There Be Carnage</td>\n",
       "      <td>2021</td>\n",
       "      <td>6.4</td>\n",
       "      <td>30443</td>\n",
       "      <td>97</td>\n",
       "      <td>0</td>\n",
       "      <td>2</td>\n",
       "      <td>2</td>\n",
       "      <td>1</td>\n",
       "      <td>2</td>\n",
       "      <td>...</td>\n",
       "      <td>0</td>\n",
       "      <td>0</td>\n",
       "      <td>0</td>\n",
       "      <td>0</td>\n",
       "      <td>0</td>\n",
       "      <td>0</td>\n",
       "      <td>0</td>\n",
       "      <td>0</td>\n",
       "      <td>0</td>\n",
       "      <td>0</td>\n",
       "    </tr>\n",
       "    <tr>\n",
       "      <th>4</th>\n",
       "      <td>Dune</td>\n",
       "      <td>2021</td>\n",
       "      <td>8.3</td>\n",
       "      <td>84636</td>\n",
       "      <td>155</td>\n",
       "      <td>0</td>\n",
       "      <td>2</td>\n",
       "      <td>0</td>\n",
       "      <td>1</td>\n",
       "      <td>2</td>\n",
       "      <td>...</td>\n",
       "      <td>0</td>\n",
       "      <td>0</td>\n",
       "      <td>0</td>\n",
       "      <td>0</td>\n",
       "      <td>0</td>\n",
       "      <td>0</td>\n",
       "      <td>0</td>\n",
       "      <td>0</td>\n",
       "      <td>0</td>\n",
       "      <td>0</td>\n",
       "    </tr>\n",
       "  </tbody>\n",
       "</table>\n",
       "<p>5 rows × 60 columns</p>\n",
       "</div>"
      ],
      "text/plain": [
       "                          Name  Date  Rate   Votes  Duration  Nudity  \\\n",
       "0               No Time to Die  2021   7.6  107163       163       1   \n",
       "1                   The Guilty  2021   6.3   64375        90       0   \n",
       "2    The Many Saints of Newark  2021   6.4   27145       120       2   \n",
       "3  Venom: Let There Be Carnage  2021   6.4   30443        97       0   \n",
       "4                         Dune  2021   8.3   84636       155       0   \n",
       "\n",
       "   Violence  Profanity  Alcohol  Frightening  ...  R  TV-14  TV-G  TV-MA  \\\n",
       "0         2          1        1            2  ...  0      0     0      0   \n",
       "1         0          3        0            2  ...  1      0     0      0   \n",
       "2         3          3        2            2  ...  1      0     0      0   \n",
       "3         2          2        1            2  ...  0      0     0      0   \n",
       "4         2          0        1            2  ...  0      0     0      0   \n",
       "\n",
       "   TV-PG  TV-Y  TV-Y7  TV-Y7-FV  Unrated  X  \n",
       "0      0     0      0         0        0  0  \n",
       "1      0     0      0         0        0  0  \n",
       "2      0     0      0         0        0  0  \n",
       "3      0     0      0         0        0  0  \n",
       "4      0     0      0         0        0  0  \n",
       "\n",
       "[5 rows x 60 columns]"
      ]
     },
     "execution_count": 784,
     "metadata": {},
     "output_type": "execute_result"
    }
   ],
   "source": [
    "imdb_data.head()"
   ]
  },
  {
   "cell_type": "markdown",
   "metadata": {},
   "source": [
    "# Assumptions"
   ]
  },
  {
   "cell_type": "markdown",
   "metadata": {},
   "source": [
    "## Linear Regression"
   ]
  },
  {
   "cell_type": "code",
   "execution_count": 785,
   "metadata": {},
   "outputs": [],
   "source": [
    "x = imdb_data.drop(['Rate','Name'], axis=1)\n",
    "y = imdb_data['Rate'].values"
   ]
  },
  {
   "cell_type": "markdown",
   "metadata": {},
   "source": [
    "1. Multicollinearity"
   ]
  },
  {
   "cell_type": "code",
   "execution_count": 786,
   "metadata": {},
   "outputs": [],
   "source": [
    "# To check Multicollinearity we are using VIF"
   ]
  },
  {
   "cell_type": "code",
   "execution_count": 787,
   "metadata": {},
   "outputs": [],
   "source": [
    "from statsmodels.stats.outliers_influence import variance_inflation_factor"
   ]
  },
  {
   "cell_type": "code",
   "execution_count": 788,
   "metadata": {},
   "outputs": [
    {
     "name": "stderr",
     "output_type": "stream",
     "text": [
      "C:\\Users\\DREAM\\anaconda3\\lib\\site-packages\\statsmodels\\stats\\outliers_influence.py:193: RuntimeWarning: divide by zero encountered in double_scalars\n",
      "  vif = 1. / (1. - r_squared_i)\n"
     ]
    },
    {
     "name": "stdout",
     "output_type": "stream",
     "text": [
      "        feature       VIF\n",
      "0          Date  1.318357\n",
      "1         Votes  1.270887\n",
      "2      Duration  2.340749\n",
      "3        Nudity  1.648926\n",
      "4      Violence  3.483248\n",
      "5     Profanity  2.415522\n",
      "6       Alcohol  1.707881\n",
      "7   Frightening  3.134976\n",
      "8        Action  1.924849\n",
      "9     Adventure  1.984016\n",
      "10    Animation  1.687836\n",
      "11    Biography  1.242118\n",
      "12       Comedy  2.274460\n",
      "13        Crime  1.519270\n",
      "14  Documentary  1.167419\n",
      "15        Drama  2.051483\n",
      "16       Family  1.574031\n",
      "17      Fantasy  1.242494\n",
      "18    Film-Noir  1.140038\n",
      "19    Game-Show  1.646286\n",
      "20      History  1.210343\n",
      "21       Horror  2.064910\n",
      "22        Music  1.059285\n",
      "23      Musical  1.037824\n",
      "24      Mystery  1.329302\n",
      "25         News  1.014691\n",
      "26   Reality-TV  1.806182\n",
      "27      Romance  1.413350\n",
      "28       Sci-Fi  1.304927\n",
      "29        Short  1.090191\n",
      "30        Sport  1.072725\n",
      "31    Talk-Show  1.005074\n",
      "32     Thriller  1.566745\n",
      "33          War  1.082703\n",
      "34      Western  1.091204\n",
      "35         Film       inf\n",
      "36       Series       inf\n",
      "37     (Banned)       inf\n",
      "38     Approved       inf\n",
      "39            E       inf\n",
      "40            G       inf\n",
      "41           GP       inf\n",
      "42            M       inf\n",
      "43         M/PG       inf\n",
      "44        NC-17       inf\n",
      "45           PG       inf\n",
      "46        PG-13       inf\n",
      "47       Passed       inf\n",
      "48            R       inf\n",
      "49        TV-14       inf\n",
      "50         TV-G       inf\n",
      "51        TV-MA       inf\n",
      "52        TV-PG       inf\n",
      "53         TV-Y       inf\n",
      "54        TV-Y7       inf\n",
      "55     TV-Y7-FV       inf\n",
      "56      Unrated       inf\n",
      "57            X       inf\n"
     ]
    }
   ],
   "source": [
    "vif1 = pd.DataFrame()\n",
    "vif1[\"feature\"] = x.columns\n",
    "  \n",
    "# calculating VIF for each feature\n",
    "vif1[\"VIF\"] = [variance_inflation_factor(x.values, i)\n",
    "                          for i in range(len(x.columns))]\n",
    "  \n",
    "print(vif1)"
   ]
  },
  {
   "cell_type": "code",
   "execution_count": 789,
   "metadata": {},
   "outputs": [],
   "source": [
    "# There is no multicollinearity here"
   ]
  },
  {
   "cell_type": "markdown",
   "metadata": {},
   "source": [
    "2. Linearity"
   ]
  },
  {
   "cell_type": "code",
   "execution_count": 791,
   "metadata": {},
   "outputs": [
    {
     "data": {
      "text/plain": [
       "<seaborn.axisgrid.JointGrid at 0x1934352cd60>"
      ]
     },
     "execution_count": 791,
     "metadata": {},
     "output_type": "execute_result"
    },
    {
     "data": {
      "image/png": "[encoded data removed]",
      "text/plain": [
       "<Figure size 432x432 with 3 Axes>"
      ]
     },
     "metadata": {
      "needs_background": "light"
     },
     "output_type": "display_data"
    }
   ],
   "source": [
    "sns.jointplot(imdb_data['Date'],imdb_data['Rate' ])"
   ]
  },
  {
   "cell_type": "code",
   "execution_count": 792,
   "metadata": {},
   "outputs": [
    {
     "data": {
      "text/plain": [
       "<seaborn.axisgrid.JointGrid at 0x1934205e8e0>"
      ]
     },
     "execution_count": 792,
     "metadata": {},
     "output_type": "execute_result"
    },
    {
     "data": {
      "image/png": "[encoded data removed]",
      "text/plain": [
       "<Figure size 432x432 with 3 Axes>"
      ]
     },
     "metadata": {
      "needs_background": "light"
     },
     "output_type": "display_data"
    }
   ],
   "source": [
    "sns.jointplot(imdb_data['Nudity'],imdb_data['Rate' ])"
   ]
  },
  {
   "cell_type": "markdown",
   "metadata": {},
   "source": [
    "# Modelling"
   ]
  },
  {
   "cell_type": "code",
   "execution_count": 793,
   "metadata": {},
   "outputs": [],
   "source": [
    "from sklearn.model_selection import train_test_split\n",
    "from sklearn.linear_model import LinearRegression\n",
    "from sklearn import metrics"
   ]
  },
  {
   "cell_type": "code",
   "execution_count": 794,
   "metadata": {},
   "outputs": [],
   "source": [
    "x_train, x_test, y_train, y_test = train_test_split(x, y, test_size = 0.3, random_state = 0)"
   ]
  },
  {
   "cell_type": "code",
   "execution_count": 795,
   "metadata": {},
   "outputs": [],
   "source": [
    "# Lets do scaling"
   ]
  },
  {
   "cell_type": "code",
   "execution_count": 796,
   "metadata": {},
   "outputs": [],
   "source": [
    "from sklearn.preprocessing import StandardScaler\n",
    "std_x = StandardScaler()\n",
    "x_train = std_x.fit_transform(x_train)\n",
    "x_test = std_x.transform(x_test)"
   ]
  },
  {
   "cell_type": "code",
   "execution_count": 797,
   "metadata": {},
   "outputs": [
    {
     "data": {
      "text/plain": [
       "LinearRegression()"
      ]
     },
     "execution_count": 797,
     "metadata": {},
     "output_type": "execute_result"
    }
   ],
   "source": [
    "regressor = LinearRegression()\n",
    "regressor.fit(x_train, y_train)"
   ]
  },
  {
   "cell_type": "code",
   "execution_count": 798,
   "metadata": {},
   "outputs": [],
   "source": [
    "y_pred=regressor.predict(x_test)"
   ]
  },
  {
   "cell_type": "code",
   "execution_count": 799,
   "metadata": {},
   "outputs": [
    {
     "name": "stdout",
     "output_type": "stream",
     "text": [
      "Mean Absolute Error: 0.5603767822173742\n",
      "Mean Squared Error: 0.569308986200355\n",
      "Root Mean Squared Error: 0.7545256696762245\n"
     ]
    }
   ],
   "source": [
    "print('Mean Absolute Error:', metrics.mean_absolute_error(y_test, y_pred))  \n",
    "print('Mean Squared Error:', metrics.mean_squared_error(y_test, y_pred))  \n",
    "print('Root Mean Squared Error:', np.sqrt(metrics.mean_squared_error(y_test, y_pred)))"
   ]
  },
  {
   "cell_type": "code",
   "execution_count": null,
   "metadata": {},
   "outputs": [],
   "source": []
  }
 ],
 "metadata": {
  "kernelspec": {
   "display_name": "Python 3",
   "language": "python",
   "name": "python3"
  },
  "language_info": {
   "codemirror_mode": {
    "name": "ipython",
    "version": 3
   },
   "file_extension": ".py",
   "mimetype": "text/x-python",
   "name": "python",
   "nbconvert_exporter": "python",
   "pygments_lexer": "ipython3",
   "version": "3.8.3"
  }
 },
 "nbformat": 4,
 "nbformat_minor": 4
}
